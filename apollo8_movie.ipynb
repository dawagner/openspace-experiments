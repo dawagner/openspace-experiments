{
 "cells": [
  {
   "cell_type": "code",
   "execution_count": 2,
   "id": "75bed95a-2b78-48d5-afdb-55cb356e870e",
   "metadata": {},
   "outputs": [],
   "source": [
    "import openspace\n",
    "import asyncio\n",
    "\n",
    "ADDRESS = \"localhost\"\n",
    "PORT = 4681\n",
    "\n",
    "api = openspace.Api(ADDRESS, PORT)\n",
    "await api.connect()\n",
    "os = await api.singleReturnLibrary()\n",
    "nav = os.navigation"
   ]
  },
  {
   "cell_type": "code",
   "execution_count": 44,
   "id": "6509994f-f334-4756-b8c4-806b17b4d1b6",
   "metadata": {},
   "outputs": [],
   "source": [
    "scene_1_navstate = {\n",
    "    \"Anchor\": \"Earth\",\n",
    "    \"Pitch\": 0,\n",
    "    \"Position\": [6293676.95904541, 5468725.167415619, 20957880.594990373],\n",
    "    \"ReferenceFrame\": \"Root\",\n",
    "    \"Timestamp\": \"1968 DEC 21 12:51:02\",\n",
    "    \"Up\": [-0.2921629243111312, 0.9431645300075538, -0.15837138312712412],\n",
    "    \"Yaw\": 0,\n",
    "    \"Roll\": 0,\n",
    "}\n",
    "await nav.setNavigationState(scene_1_navstate, True)\n",
    "# TODO: set trails\n",
    "await os.setPropertyValueSingle(\"Scene.Apollo8LaunchTrail.Renderable.Opacity\", 1.0, 0)\n",
    "await os.setPropertyValueSingle(\"Scene.Apollo8LaunchTrail.Renderable.Appearance.EnableFade\", False)\n",
    "await os.setPropertyValueSingle(\"Scene.Apollo8LaunchTrail.Renderable.Enabled\", True)\n",
    "\n",
    "await os.setPropertyValueSingle(\"Scene.Apollo8EarthBarycenterTrail.Renderable.Opacity\", 0.0, 0)\n",
    "await os.setPropertyValueSingle(\"Scene.Apollo8EarthBarycenterTrail.Renderable.Appearance.EnableFade\", False)\n",
    "await os.setPropertyValueSingle(\"Scene.Apollo8EarthBarycenterTrail.Renderable.Enabled\", True)\n",
    "\n",
    "await os.setPropertyValueSingle(\"Scene.Apollo8MoonTrail.Renderable.Opacity\", 0.0, 0)\n",
    "await os.setPropertyValueSingle(\"Scene.Apollo8MoonTrail.Renderable.Appearance.EnableFade\", False)\n",
    "await os.setPropertyValueSingle(\"Scene.Apollo8MoonTrail.Renderable.Enabled\", True)"
   ]
  },
  {
   "cell_type": "code",
   "execution_count": 45,
   "id": "c18559df-7839-48c0-a909-fdb7224850a7",
   "metadata": {},
   "outputs": [],
   "source": [
    "# scene_2_navstate = {'Anchor': 'Apollo8',\n",
    "#  'Position': [6293676.95904541, 5468725.167415619, 20957880.594990388],\n",
    "#  'ReferenceFrame': 'Root',\n",
    "#  'Timestamp': '1968 DEC 21 15:52:37',\n",
    "#  'Up': [-0.2921629243111469, 0.94316453000755, -0.15837138312711824],\n",
    "#  'Pitch': 0,\n",
    "#  'Yaw': 0,\n",
    "#  'Roll': 0}\n",
    "await os.setPropertyValueSingle(\"NavigationHandler.OrbitalNavigator.Anchor\", \"Apollo8\")\n",
    "scene_2_end_navstate = {\n",
    "    \"Anchor\": \"Apollo8\",\n",
    "    \"Pitch\": -0.020340158421491707,\n",
    "    \"Position\": [4143921.07131958, 3260067.1352214813, 13649463.872235253],\n",
    "    \"ReferenceFrame\": \"Root\",\n",
    "    \"Timestamp\": \"1968 DEC 21 16:16:21\",\n",
    "    \"Up\": [-0.28642734919712276, 0.9479006965563714, -0.13944046435613766],\n",
    "    \"Yaw\": -0.001873367832798328,\n",
    "}"
   ]
  },
  {
   "cell_type": "code",
   "execution_count": 46,
   "id": "ff9bb4e3-edda-43c5-8af4-4524907b014e",
   "metadata": {},
   "outputs": [],
   "source": [
    "scene_3_navstate = {\n",
    "    \"Anchor\": \"Apollo8\",\n",
    "    \"Pitch\": -0.020340158421496907,\n",
    "    \"Position\": [-5560758.05960083, 11376215.199085236, 7332644.892368421],\n",
    "    \"ReferenceFrame\": \"Root\",\n",
    "    \"Timestamp\": \"1968 DEC 21 16:16:21\",\n",
    "    \"Up\": [-0.2282031962759847, 0.44621628335270114, -0.8653405859430877],\n",
    "    \"Yaw\": -0.0018733678327962182,\n",
    "}\n",
    "\n",
    "goto_3 = lambda: os.pathnavigation.createPath(\n",
    "    {\n",
    "        \"TargetType\": \"NavigationState\",\n",
    "        \"PathType\": \"AvoidCollisionWithLookAt\",\n",
    "        \"NavigationState\": scene_3_navstate,\n",
    "        \"Duration\": 4,\n",
    "    }\n",
    ")\n",
    "await goto_3()\n",
    "await os.setPropertyValueSingle(\"Scene.Apollo8EarthBarycenterTrail.Renderable.Opacity\", 1.0, 0.5)"
   ]
  },
  {
   "cell_type": "code",
   "execution_count": 41,
   "id": "ff4fc09c-de77-4488-9d2c-882a6c5d983f",
   "metadata": {},
   "outputs": [],
   "source": [
    "await nav.addTruckMovement(-15)\n",
    "scene_3_end_navstate = {\n",
    "    \"Anchor\": \"Apollo8\",\n",
    "    \"Pitch\": -0.02032326999022017,\n",
    "    \"Position\": [-15725510.827850342, 32171296.319280624, 20736307.067709297],\n",
    "    \"ReferenceFrame\": \"Root\",\n",
    "    \"Timestamp\": \"1968 DEC 21 17:48:34\",\n",
    "    \"Up\": [-0.2359146390018516, 0.4423826539233311, -0.8652409321179717],\n",
    "    \"Yaw\": -0.0020484975845931914,\n",
    "}"
   ]
  },
  {
   "cell_type": "code",
   "execution_count": 47,
   "id": "f8629ace-e65f-4219-ba2b-b71fcec9ac35",
   "metadata": {},
   "outputs": [],
   "source": [
    "scene_4_navstate = {\n",
    "    \"Anchor\": \"Earth\",\n",
    "    \"Pitch\": 0.19893809701276685,\n",
    "    \"Position\": [-69041286.35406494, 105918808.32658577, 17105056.777462244],\n",
    "    \"ReferenceFrame\": \"Root\",\n",
    "    \"Timestamp\": \"1968 DEC 21 17:48:34\",  # plutot 17:25 ?\n",
    "    \"Up\": [-0.10734536338792167, 0.08992969456597477, -0.9901462634350469],\n",
    "    \"Yaw\": 0.2798418393212451,\n",
    "}\n",
    "\n",
    "await os.pathnavigation.jumpToNavigationState(scene_4_navstate, 0.5)\n",
    "\n",
    "scene_4_end_navstate = {\n",
    "    \"Anchor\": \"Apollo8\",\n",
    "    \"Pitch\": -0.0024747747253159964,\n",
    "    \"Position\": [92146951.7206726, 168784950.0703125, 196945190.59271193],\n",
    "    \"ReferenceFrame\": \"Root\",\n",
    "    \"Timestamp\": \"1968 DEC 23 09:33:03\",  # plutot \"1968 DEC 22 02:22:28\" ?\n",
    "    \"Up\": [-0.8931478626679806, 0.44851349167228816, 0.033504375826904964],\n",
    "    \"Yaw\": 0.0017505004302081973,\n",
    "}"
   ]
  },
  {
   "cell_type": "code",
   "execution_count": 51,
   "id": "22543296-33bd-4b1c-87b1-ea64a1c2ee0d",
   "metadata": {},
   "outputs": [],
   "source": [
    "# au bout d'un moment, effacer la launch trail\n",
    "await os.setPropertyValueSingle(\"Scene.Apollo8LaunchTrail.Renderable.Opacity\", 0, 0.5)"
   ]
  },
  {
   "cell_type": "code",
   "execution_count": 50,
   "id": "80697ff8-91ba-4b71-b101-03ef8972ecb7",
   "metadata": {},
   "outputs": [],
   "source": [
    "scene_5_navstate = {\n",
    "    \"Anchor\": \"Earth\",\n",
    "    \"Position\": [102005333.71444702, 494797175.9400406, 236052410.95812607],\n",
    "    \"ReferenceFrame\": \"Root\",\n",
    "    \"Timestamp\": \"1968 DEC 23 09:33:26\",  # plutot \"1968 DEC 22 02:22:28\" ?\n",
    "    \"Up\": [-0.9007647294947052, 0.32378797914309143, -0.2894550857400223],\n",
    "}\n",
    "\n",
    "\n",
    "await os.pathnavigation.jumpToNavigationState(scene_5_navstate, 0.5)\n",
    "scene_5_end_navstate = {\n",
    "    \"Anchor\": \"Earth\",\n",
    "    \"Position\": [102005333.71444702, 494797175.9400406, 236052410.9581251],\n",
    "    \"ReferenceFrame\": \"Root\",\n",
    "    \"Timestamp\": \"1968 DEC 24 07:37:51\",\n",
    "    \"Up\": [-0.9007647294947188, 0.3237879791430799, -0.2894550857399934],\n",
    "}"
   ]
  },
  {
   "cell_type": "code",
   "execution_count": 52,
   "id": "c852f64a-5de7-4e05-8bf2-9946a9816fbc",
   "metadata": {},
   "outputs": [],
   "source": [
    "scene_6_navstate = {'Anchor': 'Moon',\n",
    " 'Pitch': 0.002506849476056914,\n",
    " 'Position': [18903234.865875244, 59631720.832969666, 29449524.456306458],\n",
    " 'ReferenceFrame': 'Root',\n",
    " 'Timestamp': '1968 DEC 24 04:21:33',\n",
    " 'Up': [-0.8800567998343979, 0.40301353931432915, -0.25115755253341676],\n",
    " 'Yaw': -0.0029955000285278284}\n",
    "\n",
    "#{\n",
    "#    \"Anchor\": \"Moon\",\n",
    "#    \"Pitch\": 0.00253720299222337,\n",
    "#    \"Position\": [7992032.456542969, 25211486.378623962, 12450861.291872978],\n",
    "#    \"ReferenceFrame\": \"Root\",\n",
    "#    \"Timestamp\": \"1968 DEC 24 07:37:51\",\n",
    "#    \"Up\": [-0.8839624067862186, 0.3998768917848854, -0.24229926703391957],\n",
    "#    \"Yaw\": -0.002969834306467446,\n",
    "#}\n",
    "await os.pathnavigation.flyToNavigationState(scene_6_navstate, 5)"
   ]
  },
  {
   "cell_type": "code",
   "execution_count": 53,
   "id": "4b9436bf-4a4b-4faf-b2b3-44f81df2e0c9",
   "metadata": {},
   "outputs": [],
   "source": [
    "# puis, à 1968 DEC 24 09:25:22, zoom avant:\n",
    "await nav.addTruckMovement(30)\n",
    "# et changement de trail:"
   ]
  },
  {
   "cell_type": "code",
   "execution_count": null,
   "id": "7aea6e32-e6e6-469a-a961-bc9caa799975",
   "metadata": {},
   "outputs": [],
   "source": []
  }
 ],
 "metadata": {
  "kernelspec": {
   "display_name": "Python 3 (ipykernel)",
   "language": "python",
   "name": "python3"
  },
  "language_info": {
   "codemirror_mode": {
    "name": "ipython",
    "version": 3
   },
   "file_extension": ".py",
   "mimetype": "text/x-python",
   "name": "python",
   "nbconvert_exporter": "python",
   "pygments_lexer": "ipython3",
   "version": "3.13.1"
  }
 },
 "nbformat": 4,
 "nbformat_minor": 5
}
